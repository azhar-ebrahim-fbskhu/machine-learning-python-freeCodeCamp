{
  "nbformat": 4,
  "nbformat_minor": 0,
  "metadata": {
    "colab": {
      "provenance": []
    },
    "kernelspec": {
      "name": "python3",
      "display_name": "Python 3"
    },
    "language_info": {
      "name": "python"
    }
  },
  "cells": [
    {
      "cell_type": "markdown",
      "source": [
        "# **Machine Learning with Python**"
      ],
      "metadata": {
        "id": "88c60Z0Jm3XC"
      }
    },
    {
      "cell_type": "markdown",
      "source": [
        "## **TensorFlow**"
      ],
      "metadata": {
        "id": "OF0Nba6hnBzO"
      }
    },
    {
      "cell_type": "markdown",
      "source": [
        "### Introduction: Machine Learning Fundamentals"
      ],
      "metadata": {
        "id": "CpeZnj8_nMmY"
      }
    },
    {
      "cell_type": "markdown",
      "source": [
        "Machine Learning is a subset of artificial intelligence.\n",
        "\n",
        "Rather than giving the program rules, an algorithm finds the rules for us.\n",
        "$$$$\n",
        "**Neural Network** - A form of machine learning that uses a layered representation of data.\n",
        "\n",
        "**Features** - input or information that we have.\n",
        "\n",
        "**Label** - ouput or information we are trying to find."
      ],
      "metadata": {
        "id": "StVtQGYkoE27"
      }
    },
    {
      "cell_type": "markdown",
      "source": [
        "### Introduction to TensorFlow"
      ],
      "metadata": {
        "id": "rPCLh8jHp757"
      }
    },
    {
      "cell_type": "markdown",
      "source": [
        "**Tensor** - vector generalized to higher dimensions.\n",
        "\n",
        "Each tensor has a data type and a shape:\n",
        "- **data type**: what kind of information is stored in a tensor eg float32, int32, string, etc.\n",
        "- **shape**: represents the dimension of the data."
      ],
      "metadata": {
        "id": "OBRMCqJvqFOE"
      }
    },
    {
      "cell_type": "code",
      "source": [
        "# Below is an example of how to create some different tensors.\n",
        "import tensorflow as tf\n",
        "\n",
        "string = tf.Variable(\"this is a string\", tf.string)\n",
        "number = tf.Variable(324, tf.int16)\n",
        "floating = tf.Variable(3.567, tf.float64)\n",
        "\n",
        "# These tensors have a shape of 1 and are therefore scalars (rank 0)"
      ],
      "metadata": {
        "id": "MLwI27QvrE1N"
      },
      "execution_count": 30,
      "outputs": []
    },
    {
      "cell_type": "markdown",
      "source": [
        "### Rank/Degree of Tensors\n",
        "\n",
        "The number of dimensions involved in the tensor."
      ],
      "metadata": {
        "id": "moA_rMD0r-cZ"
      }
    },
    {
      "cell_type": "code",
      "source": [
        "# Some tensors of higher degrees/ ranks\n",
        "\n",
        "rank1_tensor = tf.Variable([\"test\", \"ok\", \"Tim\"], tf.string) # An array (rank 1 tensor)\n",
        "rank2_tensor = tf.Variable([[\"test\", \"ok\"],[\"test\", \"yes\"], [\"yes\", \"ya\"]], tf.string) # A list inside of a list (rank 2 tensor)"
      ],
      "metadata": {
        "id": "zna4UACNsNBo"
      },
      "execution_count": 31,
      "outputs": []
    },
    {
      "cell_type": "code",
      "source": [
        "# To determine the rank of a tensor\n",
        "tf.rank(rank2_tensor)"
      ],
      "metadata": {
        "colab": {
          "base_uri": "https://localhost:8080/"
        },
        "id": "CCDaIAGgtM8Q",
        "outputId": "0e0dbf1c-57e3-40c6-fda8-6d09eed1c128"
      },
      "execution_count": 32,
      "outputs": [
        {
          "output_type": "execute_result",
          "data": {
            "text/plain": [
              "<tf.Tensor: shape=(), dtype=int32, numpy=2>"
            ]
          },
          "metadata": {},
          "execution_count": 32
        }
      ]
    },
    {
      "cell_type": "markdown",
      "source": [
        "### Shape of a Tensor\n",
        "\n",
        "The amount of elements that exist in each dimension."
      ],
      "metadata": {
        "id": "R8AqUGtPuAiz"
      }
    },
    {
      "cell_type": "code",
      "source": [
        "rank2_tensor.shape"
      ],
      "metadata": {
        "colab": {
          "base_uri": "https://localhost:8080/"
        },
        "id": "Dk-kWs_suM0X",
        "outputId": "2699a9d2-f945-4441-e286-f888caa47ced"
      },
      "execution_count": 33,
      "outputs": [
        {
          "output_type": "execute_result",
          "data": {
            "text/plain": [
              "TensorShape([3, 2])"
            ]
          },
          "metadata": {},
          "execution_count": 33
        }
      ]
    },
    {
      "cell_type": "markdown",
      "source": [
        "### Changing Shape\n",
        "\n",
        "The example below shows how to change the shape of a tensor."
      ],
      "metadata": {
        "id": "alTxj8pvuUiF"
      }
    },
    {
      "cell_type": "code",
      "source": [
        "tensor1 = tf.ones([1,2,3]) # tf.ones() creates a shape [1,2,3] tensor full of ones\n",
        "print(tensor1)\n",
        "\n",
        "tensor2 = tf.reshape(tensor1, [2,3,1])\n",
        "print(tensor2)\n",
        "\n",
        "tensor3 = tf.reshape(tensor2, [3, -1]) # -1 tells the tensor to calculate the size of the dimension in that place\n",
        "# this will reshape the tensor to [3,2]\n",
        "print(tensor3)"
      ],
      "metadata": {
        "colab": {
          "base_uri": "https://localhost:8080/"
        },
        "id": "AaRB5KR5v1eU",
        "outputId": "e389524c-ac96-40b9-e0d4-a6d71235f507"
      },
      "execution_count": 34,
      "outputs": [
        {
          "output_type": "stream",
          "name": "stdout",
          "text": [
            "tf.Tensor(\n",
            "[[[1. 1. 1.]\n",
            "  [1. 1. 1.]]], shape=(1, 2, 3), dtype=float32)\n",
            "tf.Tensor(\n",
            "[[[1.]\n",
            "  [1.]\n",
            "  [1.]]\n",
            "\n",
            " [[1.]\n",
            "  [1.]\n",
            "  [1.]]], shape=(2, 3, 1), dtype=float32)\n",
            "tf.Tensor(\n",
            "[[1. 1.]\n",
            " [1. 1.]\n",
            " [1. 1.]], shape=(3, 2), dtype=float32)\n"
          ]
        }
      ]
    },
    {
      "cell_type": "markdown",
      "source": [
        "### Types of Tensors\n",
        "\n",
        "- Variable\n",
        "- Constant\n",
        "- Placeholder\n",
        "- SparseTensor\n",
        "\n",
        "With the exception of variable all of these tensors are immutable, meaning their value may not change during execution."
      ],
      "metadata": {
        "id": "F7RpbC0IyOdg"
      }
    }
  ]
}